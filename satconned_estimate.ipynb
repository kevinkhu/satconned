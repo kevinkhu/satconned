{
  "nbformat": 4,
  "nbformat_minor": 0,
  "metadata": {
    "colab": {
      "provenance": [],
      "authorship_tag": "ABX9TyPI5YPY8fdZZGyViqmsPYBz",
      "include_colab_link": true
    },
    "kernelspec": {
      "name": "python3",
      "display_name": "Python 3"
    },
    "language_info": {
      "name": "python"
    }
  },
  "cells": [
    {
      "cell_type": "markdown",
      "metadata": {
        "id": "view-in-github",
        "colab_type": "text"
      },
      "source": [
        "<a href=\"https://colab.research.google.com/github/kevinkhu/satconned/blob/main/satconned_estimate.ipynb\" target=\"_parent\"><img src=\"https://colab.research.google.com/assets/colab-badge.svg\" alt=\"Open In Colab\"/></a>"
      ]
    },
    {
      "cell_type": "markdown",
      "source": [
        "# Estimate satellite constellation passes over a field of view\n",
        "#### This program is agnostic to observer and target location. It can only provide an order-of-magnitude estimate of satellite passes based on the probability of a randomly oriented satellite at a given altitude above Earth will cross over a given field-of-view."
      ],
      "metadata": {
        "id": "oLBMX8qF64BG"
      }
    },
    {
      "cell_type": "code",
      "execution_count": 1,
      "metadata": {
        "id": "huIgi7eY2GFJ"
      },
      "outputs": [],
      "source": [
        "# Import important libraries\n",
        "from matplotlib import rc\n",
        "from matplotlib import rcParams\n",
        "import matplotlib.pyplot as plt\n",
        "from scipy.stats import binom\n",
        "import scipy.integrate as integrate\n",
        "import numpy as np\n",
        "import astropy.constants as const\n",
        "import astropy.units as u\n",
        "\n",
        "# Setup some plotting properties\n",
        "rc('xtick', labelsize=24)\n",
        "rc('ytick', labelsize=24)\n",
        "rc('figure', figsize=[16,9])\n",
        "rc('font', size=28)\n",
        "rc('axes', linewidth=2)\n",
        "\n",
        "rcParams['xtick.major.size'] = 10\n",
        "rcParams['xtick.major.width'] = 2\n",
        "rcParams[\"xtick.major.top\"] = True\n",
        "rcParams[\"xtick.major.pad\"] = 10\n",
        "rcParams[\"xtick.top\"] = True\n",
        "rcParams[\"xtick.direction\"] = \"in\"\n",
        "\n",
        "rcParams['ytick.major.size'] = 10\n",
        "rcParams['ytick.major.width'] = 2\n",
        "rcParams[\"ytick.major.right\"] = True\n",
        "rcParams[\"ytick.major.pad\"] = 10\n",
        "rcParams[\"ytick.right\"] = True\n",
        "rcParams[\"ytick.direction\"] = \"in\""
      ]
    },
    {
      "cell_type": "markdown",
      "source": [
        "## Function to estimate how many randomly generated satellites will pass over a given field-of-view"
      ],
      "metadata": {
        "id": "yZVdfFao_eh_"
      }
    },
    {
      "cell_type": "code",
      "source": [
        "def satconned_geo(Satellite_altitude, FOV, Observation_duration, Number_of_satellites, Latitude_limit=90):\n",
        "    \"\"\" Computes number of satellite passes within a region over the duration of an observation\n",
        "    \n",
        "    Parameters\n",
        "    ----------\n",
        "    Satellite_altitude : float\n",
        "        Orbital altitude of satellites (km).\n",
        "    FOV : float\n",
        "        Field-of-view or avoidance radius (arcminutes)\n",
        "    Observation_duration : float\n",
        "        Duration of observation (hours)\n",
        "    Number_of_satellites : float\n",
        "        Total number of satellites to simulate\n",
        "    Latitude_limit : float, optional\n",
        "        Assume satellites orbit within +/- latitude limit (degrees)\n",
        "\n",
        "    Returns\n",
        "    -------\n",
        "    Satcon : array\n",
        "        Probability distribution of number of satellite passes over field-of-view\n",
        "    Median_satcon: float\n",
        "        Median number of satellite passes\n",
        "    Stdev_satcon: float\n",
        "        Standard deviation of satellite passes\n",
        "    \"\"\"\n",
        "    Satellite_orbital_radius = (Satellite_altitude*u.km).to(u.m)+const.R_earth # Orbital altitude of satellites+Earth radius\n",
        "    Satellite_velocity = np.sqrt(const.G*const.M_earth/Satellite_orbital_radius) # Velocity of satellites at Satellite_altitude\n",
        "    Satellite_orbital_period = ((2*np.pi*(Satellite_orbital_radius))/Satellite_velocity).value # Satellite orbital period (minutes)\n",
        "\n",
        "    Avoidance_radius= 2*np.pi*(FOV/60)/180 # Compute cone of avoidance\n",
        "    Time_observation = Observation_duration*60*60 # Observation time hours to seconds\n",
        "    Orbit_multiplier = Time_observation/Satellite_orbital_period # Number of times an individual satellite passes within observation duration\n",
        "    \n",
        "    #If there is a satellite latitude limit, calculate total number of steradians \n",
        "    Coaltitude1 = 90-np.abs(Latitude_limit)\n",
        "    Coaltitude2 = np.abs(Latitude_limit)+90\n",
        "    Steradians = 2*np.pi*integrate.quad(lambda x: np.sin(x), np.deg2rad(Coaltitude1), np.deg2rad(-Coaltitude2))[0]\n",
        "\n",
        "    Relative_area_affected = np.clip(Time_observation, 0, Satellite_orbital_period)/Satellite_orbital_period * 2*np.pi*Avoidance_radius  / Steradians\n",
        "\n",
        "    Satcon=np.random.binomial(Number_of_satellites, Relative_area_affected, 20000)*Orbit_multiplier\n",
        "    Median_satcon = np.median(Satcon)\n",
        "    Stdev_satcon = np.std(Satcon)\n",
        "    return Satcon, print('Number of satellite passes: ',round(Median_satcon),'+/-',round(Stdev_satcon))"
      ],
      "metadata": {
        "id": "Oq46jRvw4NZN"
      },
      "execution_count": 2,
      "outputs": []
    },
    {
      "cell_type": "markdown",
      "source": [
        "## Run the function above assuming a satellite altitude of 550 km, 15 arcminute field-of-view, 5 hour observation, 3000 satellites, and a satellite orbit limit of +/- 50 degrees latitude"
      ],
      "metadata": {
        "id": "tkaf3Pv-_qkP"
      }
    },
    {
      "cell_type": "code",
      "source": [
        "sc = satconned_geo(550, 15, 5, 3000, 50)[0]\n",
        "\n",
        "# Plot resultant probability distribution\n",
        "plt.hist(sc,color='#785EF0',bins=15,density=True)\n",
        "plt.axvline(np.median(sc),color='#FE6100',ls='--',lw=3)\n",
        "plt.xlabel('Number of Satellites')\n",
        "plt.ylabel('Density')"
      ],
      "metadata": {
        "colab": {
          "base_uri": "https://localhost:8080/",
          "height": 630
        },
        "id": "1J77hScs2vKH",
        "outputId": "0d765053-1d49-46d0-fb25-54d580b9acc3"
      },
      "execution_count": 3,
      "outputs": [
        {
          "output_type": "stream",
          "name": "stdout",
          "text": [
            "Number of satellite passes:  53 +/- 13\n"
          ]
        },
        {
          "output_type": "execute_result",
          "data": {
            "text/plain": [
              "Text(0, 0.5, 'Density')"
            ]
          },
          "metadata": {},
          "execution_count": 3
        },
        {
          "output_type": "display_data",
          "data": {
            "text/plain": [
              "<Figure size 1152x648 with 1 Axes>"
            ],
            "image/png": "[encoded data removed]"
          },
          "metadata": {
            "needs_background": "light"
          }
        }
      ]
    },
    {
      "cell_type": "code",
      "source": [],
      "metadata": {
        "id": "02cBivsV3M5O"
      },
      "execution_count": 3,
      "outputs": []
    }
  ]
}